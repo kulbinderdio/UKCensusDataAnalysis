{
 "cells": [
  {
   "cell_type": "code",
   "execution_count": null,
   "id": "ee971490",
   "metadata": {},
   "outputs": [],
   "source": [
    "import sys\n",
    "!{sys.executable} -m pip install requests\n",
    "!{sys.executable} -m pip install sqlalchemy\n",
    "!{sys.executable} -m pip install pandas\n",
    "!{sys.executable} -m pip install psycopg2-binary\n"
   ]
  },
  {
   "cell_type": "code",
   "execution_count": null,
   "id": "07dcb986",
   "metadata": {},
   "outputs": [],
   "source": [
    "import pandas as pd\n",
    "import requests\n",
    "import glob\n",
    "\n",
    "import psycopg2\n",
    "from sqlalchemy import create_engine\n",
    "\n",
    "host=\"localhost\"\n",
    "database=\"censusdata\"\n",
    "user=\"user\"\n",
    "password=\"password\"\n",
    "port=\"5432\"\n",
    "\n",
    "connection = psycopg2.connect(\n",
    "    host=host,\n",
    "    database=database,\n",
    "    user=user,\n",
    "    password=password,\n",
    "    port=port,\n",
    ")\n",
    "connection.autocommit = True\n",
    "cursor = connection.cursor()\n",
    "connection_string = f\"postgresql://{user}:{password}@{host}:{port}/{database}\"\n",
    "engine = create_engine(connection_string)"
   ]
  },
  {
   "cell_type": "code",
   "execution_count": null,
   "id": "122d04c1",
   "metadata": {},
   "outputs": [],
   "source": [
    "# Create censusdata table in database\n",
    "# Structure of table\n",
    "# --------------------------------------\n",
    "# + geographycode + key + value + type +\n",
    "# --------------------------------------\n",
    "\n",
    "# geographycode is the 'name' of the OA\n",
    "# key is the specific census question respsonse, e.g. KS102EW0012 corresponds to the number of individuals Aged 45 to 59 for that OA\n",
    "# value holsd the actual value for this census answer\n",
    "# type holds the first part of the key as this corresponds to a particular census question"
   ]
  },
  {
   "cell_type": "code",
   "execution_count": null,
   "id": "f55456db",
   "metadata": {},
   "outputs": [],
   "source": [
    "def DownloadFile(url, local_filename):\n",
    "    r = requests.get(url)\n",
    "    with open(local_filename, 'wb') as f:\n",
    "        for chunk in r.iter_content(chunk_size=1024):\n",
    "            if chunk:  # filter out keep-alive new chunks\n",
    "                f.write(chunk)\n",
    "    return"
   ]
  },
  {
   "cell_type": "code",
   "execution_count": null,
   "id": "7bed3f17",
   "metadata": {},
   "outputs": [],
   "source": [
    "import time\n",
    "\n",
    "def loadCensusData(censusUrlCode, censusCode):\n",
    "    print(f'------- Downloading data for {censusCode} ------------')\n",
    "    DownloadFile(\n",
    "        f'https://www.nomisweb.co.uk/api/v01/dataset/{censusUrlCode}.bulk.csv?time=latest&measures=20100&rural_urban=total&geography=2013265926TYPE299',\n",
    "        f'{censusCode}-East.csv')\n",
    "    DownloadFile(\n",
    "        f'https://www.nomisweb.co.uk/api/v01/dataset/{censusUrlCode}.bulk.csv?time=latest&measures=20100&rural_urban=total&geography=2013265924TYPE299',\n",
    "        f'{censusCode}-East-Midlands.csv')\n",
    "    DownloadFile(\n",
    "        f'https://www.nomisweb.co.uk/api/v01/dataset/{censusUrlCode}.bulk.csv?time=latest&measures=20100&rural_urban=total&geography=2013265927TYPE299',\n",
    "        f'{censusCode}-London.csv')\n",
    "    DownloadFile(\n",
    "        f'https://www.nomisweb.co.uk/api/v01/dataset/{censusUrlCode}.bulk.csv?time=latest&measures=20100&rural_urban=total&geography=2013265921TYPE299',\n",
    "        f'{censusCode}-North-East.csv')\n",
    "    DownloadFile(\n",
    "        f'https://www.nomisweb.co.uk/api/v01/dataset/{censusUrlCode}.bulk.csv?time=latest&measures=20100&rural_urban=total&geography=2013265922TYPE299',\n",
    "        f'{censusCode}-North-West.csv')\n",
    "    DownloadFile(\n",
    "        f'https://www.nomisweb.co.uk/api/v01/dataset/{censusUrlCode}.bulk.csv?time=latest&measures=20100&rural_urban=total&geography=2013265928TYPE299',\n",
    "        f'{censusCode}-South-East.csv')\n",
    "    DownloadFile(\n",
    "        f'https://www.nomisweb.co.uk/api/v01/dataset/{censusUrlCode}.bulk.csv?time=latest&measures=20100&rural_urban=total&geography=2013265929TYPE299',\n",
    "        f'{censusCode}-South-West.csv')\n",
    "    DownloadFile(\n",
    "        f'https://www.nomisweb.co.uk/api/v01/dataset/{censusUrlCode}.bulk.csv?time=latest&measures=20100&rural_urban=total&geography=2013265930TYPE299',\n",
    "        f'{censusCode}-Wales.csv')\n",
    "    DownloadFile(\n",
    "        f'https://www.nomisweb.co.uk/api/v01/dataset/{censusUrlCode}.bulk.csv?time=latest&measures=20100&rural_urban=total&geography=2013265925TYPE299',\n",
    "        f'{censusCode}-West-Midlands.csv')\n",
    "    DownloadFile(\n",
    "        f'https://www.nomisweb.co.uk/api/v01/dataset/{censusUrlCode}.bulk.csv?time=latest&measures=20100&rural_urban=total&geography=2013265923TYPE299',\n",
    "        f'{censusCode}-Yorkshire.csv')\n",
    "\n",
    "    df = pd.DataFrame()\n",
    "    df = pd.concat(map(pd.read_csv, glob.glob(f'./{censusCode}*.csv')))\n",
    "\n",
    "    columnHeadings = pd.read_sql(\n",
    "        f\"select * from censusmetadata where code like '{censusCode}%%' and (unit = 'Count' or unit='Sum' or unit='Years')\", engine)\n",
    "\n",
    "    # Drop columns date, geography code, Rural Urban\n",
    "    df.drop(['date', 'geography code', 'Rural Urban'], axis=1, inplace=True)\n",
    "    if 'Religion: Has religion; measures: Value' in df.columns:\n",
    "        df.drop(['Religion: Has religion; measures: Value'], axis=1, inplace=True)\n",
    "    if 'Tenure: Owned; measures: Value' in df.columns:\n",
    "        df.drop(['Tenure: Owned; measures: Value'], axis=1, inplace=True)\n",
    "    if 'Tenure: Private rented; measures: Value' in df.columns:\n",
    "        df.drop(['Tenure: Private rented; measures: Value'], axis=1, inplace=True)\n",
    "    if 'Tenure: Social rented; measures: Value' in df.columns:\n",
    "        df.drop(['Tenure: Social rented; measures: Value'], axis=1, inplace=True)\n",
    "    if 'Country of Birth: United Kingdom; measures: Value' in df.columns:\n",
    "        df.drop(['Country of Birth: United Kingdom; measures: Value'], axis=1, inplace=True)\n",
    "    if 'Country of Birth: Other EU; measures: Value' in df.columns:\n",
    "        df.drop(['Country of Birth: Other EU; measures: Value'], axis=1, inplace=True)\n",
    "    #201\n",
    "    if 'Ethnic Group: White; measures: Value' in df.columns:\n",
    "        df.drop(['Ethnic Group: White; measures: Value'], axis=1, inplace=True)\n",
    "    if 'Ethnic Group: Mixed/multiple ethnic groups; measures: Value' in df.columns:\n",
    "        df.drop(['Ethnic Group: Mixed/multiple ethnic groups; measures: Value'], axis=1, inplace=True)\n",
    "    if 'Ethnic Group: Asian/Asian British; measures: Value' in df.columns:\n",
    "        df.drop(['Ethnic Group: Asian/Asian British; measures: Value'], axis=1, inplace=True)\n",
    "    if 'Ethnic Group: Black/African/Caribbean/Black British; measures: Value' in df.columns:\n",
    "        df.drop(['Ethnic Group: Black/African/Caribbean/Black British; measures: Value'], axis=1, inplace=True)\n",
    "    if 'Ethnic Group: Other ethnic group; measures: Value' in df.columns:\n",
    "        df.drop(['Ethnic Group: Other ethnic group; measures: Value'], axis=1, inplace=True)\n",
    "\n",
    "    #105\n",
    "\n",
    "    if 'Household Composition: One person household; measures: Value' in df.columns:\n",
    "        df.drop(['Household Composition: One person household; measures: Value'], axis=1, inplace=True)\n",
    "    if 'Household Composition: One family household; measures: Value' in df.columns:\n",
    "        df.drop(['Household Composition: One family household; measures: Value'], axis=1, inplace=True)\n",
    "    if 'Household Composition: One family only: Married or same-sex civil partnership couple; measures: Value' in df.columns:\n",
    "        df.drop(['Household Composition: One family only: Married or same-sex civil partnership couple; measures: Value'], axis=1, inplace=True)\n",
    "    if 'Household Composition: One family only: Cohabiting couple; measures: Value' in df.columns:\n",
    "        df.drop(['Household Composition: One family only: Cohabiting couple; measures: Value'], axis=1, inplace=True)\n",
    "    if 'Household Composition: One family only: Lone parent; measures: Value' in df.columns:\n",
    "        df.drop(['Household Composition: One family only: Lone parent; measures: Value'], axis=1, inplace=True)\n",
    "    if 'Household Composition: Other household types; measures: Value' in df.columns:\n",
    "        df.drop(['Household Composition: Other household types; measures: Value'], axis=1, inplace=True)\n",
    "        \n",
    "    # 106\n",
    "    if 'Household Composition: One person in household with a long-term health problem or disability; measures: Value' in df.columns:\n",
    "        df.drop(['Household Composition: One person in household with a long-term health problem or disability; measures: Value'], axis=1, inplace=True)\n",
    "    if 'Household Composition: No adults in employment in household; measures: Value' in df.columns:\n",
    "        df.drop(['Household Composition: No adults in employment in household; measures: Value'], axis=1, inplace=True)\n",
    "    \n",
    "        \n",
    "        \n",
    "        \n",
    "\n",
    "\n",
    "    columns = ['geographycode']\n",
    "    columns = columns + (columnHeadings['code'].to_list())\n",
    "    df.columns = columns\n",
    "\n",
    "    data = []\n",
    "    columns = df.columns[1:]\n",
    "    for column in columns:\n",
    "        df1 = pd.DataFrame()\n",
    "        df1 = df[['geographycode', column]]\n",
    "        df1.insert(1, \"key\", column)\n",
    "        df1['type'] = column[:7]\n",
    "        \n",
    "        data = data + df1.values.tolist()\n",
    "\n",
    "    insert_query = \"\"\"insert into censusdata (geographycode, key, value, type) values %s\"\"\"\n",
    "    psycopg2.extras.execute_values(\n",
    "        cursor, insert_query, data, template=None, page_size=100\n",
    "    )\n"
   ]
  },
  {
   "cell_type": "code",
   "execution_count": null,
   "id": "d8c8da17",
   "metadata": {},
   "outputs": [],
   "source": [
    "\n",
    "# This table provides information about the age structure, mean and median ages of usual residents of \n",
    "# England and Wales as at census day, 27 March 2011.\n",
    "loadCensusData('nm_145_1','KS102EW')"
   ]
  },
  {
   "cell_type": "code",
   "execution_count": null,
   "id": "6d9944eb",
   "metadata": {},
   "outputs": [],
   "source": [
    "# classifies usual residents by their county of birth\n",
    "loadCensusData('nm_611_1','KS204EW')"
   ]
  },
  {
   "cell_type": "code",
   "execution_count": null,
   "id": "54b52e96",
   "metadata": {},
   "outputs": [],
   "source": [
    "# classifies usual residents of England and Wales by passports held\n",
    "loadCensusData('nm_612_1','KS205EW')"
   ]
  },
  {
   "cell_type": "code",
   "execution_count": null,
   "id": "0ce531d6",
   "metadata": {},
   "outputs": [],
   "source": [
    "# classifies usual residents by religion\n",
    "loadCensusData('nm_616_1','KS209EW')"
   ]
  },
  {
   "cell_type": "code",
   "execution_count": null,
   "id": "b2d053d1",
   "metadata": {},
   "outputs": [],
   "source": [
    "# classifies usual residents aged 16 and over by their highest level of qualification\n",
    "loadCensusData('nm_623_1','KS501EW')"
   ]
  },
  {
   "cell_type": "code",
   "execution_count": null,
   "id": "7259300b",
   "metadata": {},
   "outputs": [],
   "source": [
    "# classifies households by tenure\n",
    "loadCensusData('nm_619_1','KS402EW')"
   ]
  },
  {
   "cell_type": "code",
   "execution_count": null,
   "id": "3698fc3c",
   "metadata": {},
   "outputs": [],
   "source": [
    "# information about the number of cars or vans available to members of households\n",
    "loadCensusData('nm_621_1','KS404EW')"
   ]
  },
  {
   "cell_type": "code",
   "execution_count": null,
   "id": "18af0877",
   "metadata": {},
   "outputs": [],
   "source": [
    "# ethnic group of the usual resident population\n",
    "loadCensusData('nm_608_1','KS201EW')"
   ]
  },
  {
   "cell_type": "code",
   "execution_count": null,
   "id": "cfb2ed08",
   "metadata": {},
   "outputs": [],
   "source": [
    "# information about lone parent households with dependent children\n",
    "loadCensusData('nm_607_1','KS107EW')"
   ]
  },
  {
   "cell_type": "code",
   "execution_count": null,
   "id": "71bce113",
   "metadata": {},
   "outputs": [],
   "source": [
    "#  information that classifies households by the relationships between the household members (household composition)\n",
    "loadCensusData('nm_605_1','KS105EW')"
   ]
  },
  {
   "cell_type": "code",
   "execution_count": null,
   "id": "4569f1ff",
   "metadata": {},
   "outputs": [],
   "source": [
    "# https://www.nomisweb.co.uk/api/v01/dataset/nm_625_1.bulk.csv?time=latest&measures=20100&rural_urban=total&geography=2013265926TYPE299\n",
    "# Hours worked    \n",
    "loadCensusData('nm_625_1','KS604EW')\n"
   ]
  },
  {
   "cell_type": "code",
   "execution_count": null,
   "id": "10c496e9",
   "metadata": {},
   "outputs": [],
   "source": [
    "# https://www.nomisweb.co.uk/api/v01/dataset/nm_617_1.bulk.csv?time=latest&measures=20100&rural_urban=total&geography=2013265926TYPE299\n",
    "# KS301EW - Health and provision of unpaid care\n",
    "loadCensusData('nm_617_1','KS301EW')"
   ]
  },
  {
   "cell_type": "code",
   "execution_count": null,
   "id": "4650f2e5",
   "metadata": {},
   "outputs": [],
   "source": [
    "# https://www.nomisweb.co.uk/api/v01/dataset/nm_603_1.bulk.csv?time=latest&measures=20100&rural_urban=total&geography=2013265926TYPE299\n",
    "# KS103EW - Marital and civil partnership status\n",
    "loadCensusData('nm_603_1','KS103EW')"
   ]
  },
  {
   "cell_type": "code",
   "execution_count": null,
   "id": "b3eabc34",
   "metadata": {},
   "outputs": [],
   "source": [
    "# https://www.nomisweb.co.uk/api/v01/dataset/nm_613_1.bulk.csv?time=latest&measures=20100&rural_urban=total&geography=2013265926TYPE299\n",
    "# KS206EW - Household language\n",
    "loadCensusData('nm_613_1','KS206EW')"
   ]
  },
  {
   "cell_type": "code",
   "execution_count": null,
   "id": "09969771",
   "metadata": {},
   "outputs": [],
   "source": [
    "# https://www.nomisweb.co.uk/api/v01/dataset/nm_606_1.bulk.csv?time=latest&measures=20100&rural_urban=total&geography=2013265926TYPE299\n",
    "# KS106EW - Adults not in employment and dependent children and persons with long-term health problems or disability for all households\n",
    "loadCensusData('nm_606_1','KS106EW')"
   ]
  },
  {
   "cell_type": "code",
   "execution_count": null,
   "id": "4ebb72dd",
   "metadata": {},
   "outputs": [],
   "source": [
    "cursor.execute('CREATE INDEX IF NOT EXISTS idx_OA_geom ON \"OA\" USING gist (geometry)')\n",
    "cursor.execute(\"CREATE INDEX idx_key on censusdata(key)\")"
   ]
  },
  {
   "cell_type": "code",
   "execution_count": null,
   "id": "a721b1d0",
   "metadata": {},
   "outputs": [],
   "source": [
    "data=[]\n",
    "count = cursor.execute(\"select count(*) from censusdata\", data)\n",
    "results = cursor.fetchone()\n",
    "for r in results:\n",
    "  print(r)\n",
    "print(\"Total number of rows in the table:\", r)\n"
   ]
  },
  {
   "cell_type": "code",
   "execution_count": null,
   "id": "e083fbaa",
   "metadata": {},
   "outputs": [],
   "source": []
  }
 ],
 "metadata": {
  "kernelspec": {
   "display_name": "Python 3 (ipykernel)",
   "language": "python",
   "name": "python3"
  },
  "language_info": {
   "codemirror_mode": {
    "name": "ipython",
    "version": 3
   },
   "file_extension": ".py",
   "mimetype": "text/x-python",
   "name": "python",
   "nbconvert_exporter": "python",
   "pygments_lexer": "ipython3",
   "version": "3.8.5"
  }
 },
 "nbformat": 4,
 "nbformat_minor": 5
}
