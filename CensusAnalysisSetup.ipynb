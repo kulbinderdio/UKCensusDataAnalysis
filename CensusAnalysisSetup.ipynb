{
 "cells": [
  {
   "cell_type": "markdown",
   "id": "2f8b3393",
   "metadata": {},
   "source": [
    "# Load Reference Data\n",
    "\n",
    "The base geographical data we will use consists of Output Areas (OA).\n",
    "OAs are the base unit for Census data releases. For a full explanation of OAs see\n",
    "https://www.ons.gov.uk/methodology/geography/ukgeographies/censusgeography\n",
    "\n",
    "\n",
    "The other base data is a file used for renaming census data columns with a short code.\n",
    "This was originally found on UK government site but I can no longer find this and thus this is an extract\n",
    "from a database I had created previously. This can be found in repository (CensusMetaDataExtract.csv)\n",
    "\n",
    "This Notebook will :\n",
    "1. Install require libraries\n",
    "2. setup the database connection\n",
    "3. Populate the CensusMetaData table in the database from the CensusMetaDataExtract.csv file\n",
    "4. Download the Output Area geospatial file and create a database table with this data\n",
    "5. Create the database table structure to hold the census data"
   ]
  },
  {
   "cell_type": "code",
   "execution_count": null,
   "id": "b48af12a",
   "metadata": {},
   "outputs": [],
   "source": [
    "# Install required libaries\n",
    "\n",
    "import sys\n",
    "!{sys.executable} -m pip install GeoAlchemy2\n",
    "!{sys.executable} -m pip install geopandas\n",
    "!{sys.executable} -m pip install sqlalchemy\n",
    "!{sys.executable} -m pip install pandas"
    "!{sys.executable} -m pip install psycopg2-binary"
   ]
  },
  {
   "cell_type": "code",
   "execution_count": null,
   "id": "474168f8",
   "metadata": {},
   "outputs": [],
   "source": [
    "# Create database connection to allow us to save the base reference data\n",
    "\n",
    "from sqlalchemy import create_engine\n",
    "import geopandas as gpd\n",
    "import pandas as pd \n",
    "\n",
    "host=\"localhost\"\n",
    "database=\"data\"\n",
    "user=\"postgres\"\n",
    "password=\"password\"\n",
    "port=\"5433\"\n",
    "connection_string = f\"postgresql://{user}:{password}@{host}:{port}/{database}\"\n",
    "        \n",
    "engine = create_engine(connection_string)\n"
   ]
  },
  {
   "cell_type": "code",
   "execution_count": null,
   "id": "6f965e8f",
   "metadata": {},
   "outputs": [],
   "source": [
    "# Populate CensusMetaData table\n",
    "\n",
    "import pandas as pd\n",
    "data_df = pd.read_csv('./CensusMetaDataExtract.csv')\n",
    "data_df.to_sql('censusmetadata', con=engine, index=True, if_exists='replace')"
   ]
  },
  {
   "cell_type": "code",
   "execution_count": null,
   "id": "c58741e9",
   "metadata": {},
   "outputs": [],
   "source": [
    "# Download Output Areas (2011 boundaries) and save to database\n",
    "\n",
    "oa = gpd.read_file('https://opendata.arcgis.com/api/v3/datasets/09b58d063d4e421a9cad16ba5419a6bd_0/downloads/data?format=shp&spatialRefId=27700')\n",
    "oa.to_postgis(name=\"OA\", con=engine)"
   ]
  },
  {
   "cell_type": "code",
   "execution_count": null,
   "id": "76fb7858",
   "metadata": {},
   "outputs": [],
   "source": [
    "# Create Censusdata table\n",
    "\n",
    "from sqlalchemy import Table, Column, Integer, String, MetaData, Text\n",
    "from sqlalchemy import inspect\n",
    "\n",
    "metadata = MetaData()\n",
    "books = Table('censusdata', metadata,\n",
    "  Column('geographycode', String),            \n",
    "  Column('key', String),\n",
    "  Column('value', Integer),\n",
    "  Column('type', Text),\n",
    ")\n",
    "\n",
    "metadata.create_all(engine)\n"
   ]
  }
 ],
 "metadata": {
  "kernelspec": {
   "display_name": "Python 3",
   "language": "python",
   "name": "python3"
  },
  "language_info": {
   "codemirror_mode": {
    "name": "ipython",
    "version": 3
   },
   "file_extension": ".py",
   "mimetype": "text/x-python",
   "name": "python",
   "nbconvert_exporter": "python",
   "pygments_lexer": "ipython3",
   "version": "3.9.2"
  }
 },
 "nbformat": 4,
 "nbformat_minor": 5
}
